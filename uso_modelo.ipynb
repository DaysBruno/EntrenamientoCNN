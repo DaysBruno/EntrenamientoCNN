# Importar librerías
import tensorflow as tf
from tensorflow.keras.models import load_model
from tensorflow.keras.preprocessing import image

import os
import cv2
import numpy as np
import matplotlib.pyplot as plt

# Cargar todas las imágenes de la carpeta destino
destination_folder = '/content/drive/MyDrive/Colab Notebooks/rostros_prueba'
image_paths = [os.path.join(destination_folder, file) for file in os.listdir(destination_folder)]

# Cargar el modelo de detección de emociones previamente entrenado
modelo_emociones = tf.keras.models.load_model("/content/drive/MyDrive/Colab Notebooks/model_final_0.64.h5")

# Crear una función para preprocesar una imagen (ajustarla al formato de entrada del modelo)
def preprocess_image(image_path):
    image = cv2.imread(image_path)
    image = cv2.resize(image, (48, 48))  # Ajustar al tamaño de entrada del modelo
    image = cv2.cvtColor(image, cv2.COLOR_BGR2RGB)  # Convertir a formato RGB
    image = image / 255.0  # Normalizar
    return image
# Crear un array para las imágenes y etiquetas
images = []
labels = []

# Procesar todas las imágenes y almacenarlas en el array images
for image_path in image_paths:
    image = preprocess_image(image_path)
    images.append(image)
    labels.append(os.path.basename(image_path))  # Usar el nombre del archivo como etiqueta temporal

# Convertir a un array NumPy
images = np.array(images)

# Hacer predicciones con el modelo ya entrenado
predictions = modelo_emociones.predict(images)

# Crear una función para mostrar las imágenes con etiquetas y probabilidades
def show_images_with_labels(images, labels, predictions, classes):
    num_images = len(images)
    num_cols = 4
    num_rows = (num_images + num_cols - 1) // num_cols

    plt.figure(figsize=(12, 10))

    for i in range(num_images):
        plt.subplot(num_rows, num_cols, i + 1)
        plt.imshow(images[i])
        plt.axis('off')

        # Obtener la etiqueta predicha y la probabilidad máxima
        predicted_label = classes[np.argmax(predictions[i])]
        max_probability = np.max(predictions[i])

        # Mostrar la etiqueta y la probabilidad
        plt.title(f"Label: Predicted: {predicted_label}\nProbability: {max_probability:.2f}")

    plt.tight_layout()
    plt.show()

# Definir las clases (nombres de las etiquetas)
classes = ["Enojo", "Felicidad", "Clase3", "Clase4"]  # Reemplaza con las etiquetas adecuadas

# Mostrar las imágenes con etiquetas y probabilidades
show_images_with_labels(images, labels, predictions, classes)
