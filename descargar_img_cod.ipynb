import numpy as np
from google.colab import drive
from bs4 import BeautifulSoup
import requests
import os
import cv2
import urllib
import re

# Conectar con drive
from google.colab import drive
drive.mount('/content/drive')

# Definir la carpeta de destino en tu Google Drive
destination_folder = '/content/drive/MyDrive/turuta'

# Crear la carpeta si no existe
if not os.path.exists(destination_folder):
    os.makedirs(destination_folder)

# URL de búsqueda de ejemplo de imágenes de gatos tuxedo
base_search_url = "https://www.google.com/search?q=gatos+tuxedo&tbm=isch"
headers = {
    "User-Agent": "Mozilla/5.0 (Windows NT 10.0; Win64; x64) AppleWebKit/537.36 (KHTML, like Gecko) Chrome/58.0.3029.110 Safari/537.3"
}

max_images = 50  # Número máximo de imágenes a descargar
img_counter = 0
page_num = 1

# Inicializar el detector de rostros de OpenCV
face_cascade = cv2.CascadeClassifier(cv2.data.haarcascades + 'haarcascade_frontalface_default.xml')

while img_counter < max_images:
    search_url = base_search_url + f"&start={img_counter}&ijn={page_num}"  # Modificar la URL para la paginación

    response = requests.get(search_url, headers=headers)
    soup = BeautifulSoup(response.content, 'html.parser')

    img_tags = soup.find_all('img')

    for img_tag in img_tags:
        if img_counter >= max_images:
            break

        img_url = img_tag.get('src')
        if img_url and img_url.startswith('http'):
            try:
                img_response = requests.get(img_url)
                img_array = np.asarray(bytearray(img_response.content), dtype=np.uint8)
                img = cv2.imdecode(img_array, -1)

                # Detectar rostros en la imagen
                faces = face_cascade.detectMultiScale(img, scaleFactor=1.1, minNeighbors=5)

                # Recorte y guardado de los rostros
                for i, (x, y, w, h) in enumerate(faces):
                    if img_counter >= max_images:
                        break

                    # Ampliamos el tamaño del recuadro
                    expansion_factor = 1.6
                    new_x = int(x - (w * (expansion_factor - 1) / 2))
                    new_y = int(y - (h * (expansion_factor - 1) / 2))
                    new_w = int(w * expansion_factor)
                    new_h = int(h * expansion_factor)

                    # Asegurarnos de que las nuevas coordenadas no sean negativas
                    new_x = max(new_x, 0)
                    new_y = max(new_y, 0)


                    # Recortar y redimensionar el rostro a 48x48
                    face = img[new_y:new_y+new_h, new_x:new_x+new_w]
                    face = cv2.resize(face, (48, 48))

                    img_name = f"image_{img_counter:03d}_face_{i:02d}.jpg"
                    img_path = os.path.join(destination_folder, img_name)

                    cv2.imwrite(img_path, face)

                    img_counter += 1
                    print(f"Rostro {i+1} de imagen {img_counter} descargado y guardado.")

            except Exception as e:
                print(f"Error al procesar la imagen {img_url}: {e}")

    page_num += 1

print(f"Descarga de imágenes de rostros completada. Se descargaron {img_counter} rostros.")
